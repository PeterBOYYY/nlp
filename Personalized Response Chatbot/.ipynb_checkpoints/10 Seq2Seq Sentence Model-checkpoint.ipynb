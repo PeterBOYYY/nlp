{
 "cells": [
  {
   "cell_type": "code",
   "execution_count": 1,
   "metadata": {},
   "outputs": [],
   "source": [
    "import pickle\n",
    "import numpy as np\n",
    "import tensorflow as tf\n",
    "from preppy import Preppy\n",
    "from seq2seq import Model\n",
    "from tensorflow.contrib.seq2seq import *\n",
    "from tensorflow.python.layers.core import Dense\n",
    "\n",
    "np.set_printoptions(threshold=np.nan)"
   ]
  },
  {
   "cell_type": "code",
   "execution_count": 19,
   "metadata": {},
   "outputs": [],
   "source": [
    "params = {\n",
    "    'embedding_size': 50,\n",
    "    'vocab_size': 0,\n",
    "    'hidden_size': 64,\n",
    "    'n_layers': 1,\n",
    "    \n",
    "    'epochs': 3,\n",
    "    'batch_size': 32,\n",
    "    \n",
    "    'grad_clip': 5.0,\n",
    "    'learning_rate': 0.001,\n",
    "    \n",
    "    'save_path' : './Model/Seq2seq/model.ckpt'\n",
    "}\n"
   ]
  },
  {
   "cell_type": "markdown",
   "metadata": {},
   "source": [
    "Make a dataset by reading the train "
   ]
  },
  {
   "cell_type": "code",
   "execution_count": 3,
   "metadata": {},
   "outputs": [],
   "source": [
    "def expand(x):\n",
    "    x['length'] = tf.expand_dims(tf.convert_to_tensor(x['length']),0)\n",
    "    return x\n",
    "\n",
    "def deflate(x):\n",
    "    x['length'] = tf.squeeze(x['length'])\n",
    "    return x\n",
    "\n",
    "def tokenizer(sentence):\n",
    "    return sentence.split()\n",
    "\n",
    "def save_params(params):\n",
    "    with open('./Model/Seq2seq/params.pkl', 'wb') as out_file:\n",
    "        pickle.dump(params, out_file)\n",
    "\n",
    "def load_params():\n",
    "    with open('./Model/Seq2seq/params.pkl', 'rb') as in_file:\n",
    "        return pickle.load(in_file)"
   ]
  },
  {
   "cell_type": "code",
   "execution_count": 4,
   "metadata": {},
   "outputs": [],
   "source": [
    "preppy = pickle.load(open('./data/seq2seq/preppy.pkl','rb'))\n",
    "params[\"vocab_size\"] = len(preppy.vocab)\n",
    "tf.reset_default_graph()\n",
    "dataset_train = tf.data.TFRecordDataset(['./data/seq2seq/train.tfrecord']).map(preppy.parse)\n",
    "dataset_val = tf.data.TFRecordDataset(['./data/seq2seq/val.tfrecord']).map(preppy.parse)"
   ]
  },
  {
   "cell_type": "code",
   "execution_count": 5,
   "metadata": {},
   "outputs": [
    {
     "data": {
      "text/plain": [
       "{'sentence': TensorShape([Dimension(None)])}"
      ]
     },
     "execution_count": 5,
     "metadata": {},
     "output_type": "execute_result"
    }
   ],
   "source": [
    "dataset_train.output_shapes"
   ]
  },
  {
   "cell_type": "code",
   "execution_count": 6,
   "metadata": {},
   "outputs": [],
   "source": [
    "sess = tf.Session(config=tf.ConfigProto(allow_soft_placement=True, log_device_placement=False))"
   ]
  },
  {
   "cell_type": "code",
   "execution_count": 7,
   "metadata": {},
   "outputs": [],
   "source": [
    "batched_train = dataset_train.padded_batch(32,padded_shapes={\n",
    "    \"sentence\":tf.TensorShape([None])\n",
    "})\n",
    "\n",
    "batched_val = dataset_val.padded_batch(32,padded_shapes={\n",
    "    \"sentence\":tf.TensorShape([None])\n",
    "})\n",
    "\n",
    "handle = tf.placeholder(tf.string, shape=[])\n",
    "iterator = tf.data.Iterator.from_string_handle(\n",
    "    handle, batched_train.output_types, batched_train.output_shapes)\n",
    "\n",
    "next_item = iterator.get_next()"
   ]
  },
  {
   "cell_type": "code",
   "execution_count": 8,
   "metadata": {},
   "outputs": [
    {
     "data": {
      "text/plain": [
       "{'sentence': TensorShape([Dimension(None), Dimension(None)])}"
      ]
     },
     "execution_count": 8,
     "metadata": {},
     "output_type": "execute_result"
    }
   ],
   "source": [
    "batched_train.output_shapes"
   ]
  },
  {
   "cell_type": "code",
   "execution_count": 9,
   "metadata": {},
   "outputs": [],
   "source": [
    "iterator_train = batched_train.make_initializable_iterator()\n",
    "iterator_val = batched_val.make_initializable_iterator()\n",
    "\n",
    "handle_train = sess.run(iterator_train.string_handle())\n",
    "handle_val = sess.run(iterator_val.string_handle())"
   ]
  },
  {
   "cell_type": "code",
   "execution_count": 10,
   "metadata": {},
   "outputs": [],
   "source": []
  },
  {
   "cell_type": "code",
   "execution_count": 11,
   "metadata": {},
   "outputs": [],
   "source": [
    "M = Model(next_item, params)\n",
    "sess.run(tf.global_variables_initializer())"
   ]
  },
  {
   "cell_type": "code",
   "execution_count": 31,
   "metadata": {},
   "outputs": [
    {
     "name": "stdout",
     "output_type": "stream",
     "text": [
      "INFO:tensorflow:Restoring parameters from ./Model/Seq2seq/model.ckpt\n"
     ]
    }
   ],
   "source": [
    "saver = tf.train.Saver()\n",
    "saver.restore(sess, params[\"save_path\"])"
   ]
  },
  {
   "cell_type": "code",
   "execution_count": 32,
   "metadata": {},
   "outputs": [
    {
     "name": "stdout",
     "output_type": "stream",
     "text": [
      "Epoch: 0\n",
      "Training\n",
      "Validation\n",
      "[[   1    4    5    6    7    8    3    5    2    5   11   12  899   14\n",
      "     5   16    3    3    5    2    5    5    5    5    5    5    5    5\n",
      "     5    5    5    5    5    5    5    5    5    5    5    5    5    5\n",
      "     5    5    5    5    5    5    5    5    5    5    5    5    5    5\n",
      "     5    5    5    5    5    5    5    5    5    5]\n",
      " [   1    5  581   19   16    2    3   22  126   24    3    2    5    5\n",
      "     5    5    5    5    5    5    5    5    5    5    5    5    5    5\n",
      "     5    5    5    5    5    5    5    5    5    5    5    5    5    5\n",
      "     5    5    5    5    5    5    5    5    5    5    5    5    5    5\n",
      "     5    5    5    5    5    5    5    5    5    5]\n",
      " [   1   25  543   24   14   27  543   24   14   90    2   30   31   32\n",
      "   543   14   33    2    5    5    5    5    5    5    5    5    5    5\n",
      "     5    5    5    5    5    5    5    5    5    5    5    5    5    5\n",
      "     5    5    5    5    5    5    5    5    5    5    5    5    5    5\n",
      "     5    5    5    5    5    5    5    5    5    5]\n",
      " [   1   25   25 1476   37    5    6   38    3   16    2    5    5    5\n",
      "     5    5    5    5    5    5    5    5    5    5    5    5    5    5\n",
      "     5    5    5    5    5    5    5    5    5    5    5    5    5    5\n",
      "     5    5    5    5    5    5    5    5    5    5    5    5    5    5\n",
      "     5    5    5    5    5    5    5    5    5    5]\n",
      " [   1   39   40    5   14    2    5    5    5    5    5    5    5    5\n",
      "     5    5    5    5    5    5    5    5    5    5    5    5    5    5\n",
      "     5    5    5    5    5    5    5    5    5    5    5    5    5    5\n",
      "     5    5    5    5    5    5    5    5    5    5    5    5    5    5\n",
      "     5    5    5    5    5    5    5    5    5    5]\n",
      " [   1    5   43   56  703   46   33    2    5    5    5    5    5    5\n",
      "     5    5    5    5    5    5    5    5    5    5    5    5    5    5\n",
      "     5    5    5    5    5    5    5    5    5    5    5    5    5    5\n",
      "     5    5    5    5    5    5    5    5    5    5    5    5    5    5\n",
      "     5    5    5    5    5    5    5    5    5    5]\n",
      " [   1  902   25    1    6    5   49    3   50  225   16    3    3   14\n",
      "     2    5    5    5    5    5    5    5    5    5    5    5    5    5\n",
      "     5    5    5    5    5    5    5    5    5    5    5    5    5    5\n",
      "     5    5    5    5    5    5    5    5    5    5    5    5    5    5\n",
      "     5    5    5    5    5    5    5    5    5    5]\n",
      " [   1   52   30   54   55  543    6   14   58    2    5    5    5    5\n",
      "     5    5    5    5    5    5    5    5    5    5    5    5    5    5\n",
      "     5    5    5    5    5    5    5    5    5    5    5    5    5    5\n",
      "     5    5    5    5    5    5    5    5    5    5    5    5    5    5\n",
      "     5    5    5    5    5    5    5    5    5    5]\n",
      " [   1  160    3   60    5    3   33   61    2    5    5    5    5    5\n",
      "     5    5    5    5    5    5    5    5    5    5    5    5    5    5\n",
      "     5    5    5    5    5    5    5    5    5    5    5    5    5    5\n",
      "     5    5    5    5    5    5    5    5    5    5    5    5    5    5\n",
      "     5    5    5    5    5    5    5    5    5    5]\n",
      " [   1   62 1214   64   16    3  543  748   66   67   11   62   64    2\n",
      "     3    6  911   70   71  106   16    2    3  543   74    5    2    7\n",
      "    77   78    3    5    5   81   82   83    2   62   85   78    3    5\n",
      "    16  180  169    3   71    4   90    2   92   82   66   14   94  180\n",
      "    30   78   70   97   16  106    2    2    5    2]\n",
      " [   1   25  101  102 1024   16    5    6    5    5  106    5   16    6\n",
      "     2    5    5    5    5    5    5    5    5    5    5    5    5    5\n",
      "     5    5    5    5    5    5    5    5    5    5    5    5    5    5\n",
      "     5    5    5    5    5    5    5    5    5    5    5    5    5    5\n",
      "     5    5    5    5    5    5    5    5    5    5]\n",
      " [   1    5  110  111    5    3    2    5    5    5    5    5    5    5\n",
      "     5    5    5    5    5    5    5    5    5    5    5    5    5    5\n",
      "     5    5    5    5    5    5    5    5    5    5    5    5    5    5\n",
      "     5    5    5    5    5    5    5    5    5    5    5    5    5    5\n",
      "     5    5    5    5    5    5    5    5    5    5]\n",
      " [   1  820  180   81    2  116    3    2    5    5    5    5    5    5\n",
      "     5    5    5    5    5    5    5    5    5    5    5    5    5    5\n",
      "     5    5    5    5    5    5    5    5    5    5    5    5    5    5\n",
      "     5    5    5    5    5    5    5    5    5    5    5    5    5    5\n",
      "     5    5    5    5    5    5    5    5    5    5]\n",
      " [   1  225    5  119    5   33    2    5    5    5    5    5    5    5\n",
      "     5    5    5    5    5    5    5    5    5    5    5    5    5    5\n",
      "     5    5    5    5    5    5    5    5    5    5    5    5    5    5\n",
      "     5    5    5    5    5    5    5    5    5    5    5    5    5    5\n",
      "     5    5    5    5    5    5    5    5    5    5]\n",
      " [   1   81  121    3  180   58    2    5    5    5    5    5    5    5\n",
      "     5    5    5    5    5    5    5    5    5    5    5    5    5    5\n",
      "     5    5    5    5    5    5    5    5    5    5    5    5    5    5\n",
      "     5    5    5    5    5    5    5    5    5    5    5    5    5    5\n",
      "     5    5    5    5    5    5    5    5    5    5]\n",
      " [   1    4    5  123    5   66  126   25    5    2    5    5    5    5\n",
      "     5    5    5    5    5    5    5    5    5    5    5    5    5    5\n",
      "     5    5    5    5    5    5    5    5    5    5    5    5    5    5\n",
      "     5    5    5    5    5    5    5    5    5    5    5    5    5    5\n",
      "     5    5    5    5    5    5    5    5    5    5]\n",
      " [   1  128  119  116   46  973   16  481   39   39    2    5    5    5\n",
      "     5    5    5    5    5    5    5    5    5    5    5    5    5    5\n",
      "     5    5    5    5    5    5    5    5    5    5    5    5    5    5\n",
      "     5    5    5    5    5    5    5    5    5    5    5    5    5    5\n",
      "     5    5    5    5    5    5    5    5    5    5]\n",
      " [   1   52    5  123   30    2    5    5    5    5    5    5    5    5\n",
      "     5    5    5    5    5    5    5    5    5    5    5    5    5    5\n",
      "     5    5    5    5    5    5    5    5    5    5    5    5    5    5\n",
      "     5    5    5    5    5    5    5    5    5    5    5    5    5    5\n",
      "     5    5    5    5    5    5    5    5    5    5]\n",
      " [   1  131    6   46    5    5    2    2   81    3    5    2    5    5\n",
      "     5    5    5    5    5    5    5    5    5    5    5    5    5    5\n",
      "     5    5    5    5    5    5    5    5    5    5    5    5    5    5\n",
      "     5    5    5    5    5    5    5    5    5    5    5    5    5    5\n",
      "     5    5    5    5    5    5    5    5    5    5]\n",
      " [   1  137    5    6    2    2   16  106  106  639  143  144    2   16\n",
      "   146   14    5    3    3   30  148   25   31   16   25    5    2   16\n",
      "     2    5  156   16    2    4  158  159   81   82    3  160    5    2\n",
      "    30    5    2    2    5    5    5    5    5    5    5    5    5    5\n",
      "     5    5    5    5    5    5    5    5    5    5]\n",
      " [   1   81 2567  111  163  102   49    2    5    5    5    5    5    5\n",
      "     5    5    5    5    5    5    5    5    5    5    5    5    5    5\n",
      "     5    5    5    5    5    5    5    5    5    5    5    5    5    5\n",
      "     5    5    5    5    5    5    5    5    5    5    5    5    5    5\n",
      "     5    5    5    5    5    5    5    5    5    5]\n",
      " [   1  165   16  166   81    2    5    5    5    5    5    5    5    5\n",
      "     5    5    5    5    5    5    5    5    5    5    5    5    5    5\n",
      "     5    5    5    5    5    5    5    5    5    5    5    5    5    5\n",
      "     5    5    5    5    5    5    5    5    5    5    5    5    5    5\n",
      "     5    5    5    5    5    5    5    5    5    5]\n",
      " [   1   62   16    3  168  116  169   39    2    5    5    5    5    5\n",
      "     5    5    5    5    5    5    5    5    5    5    5    5    5    5\n",
      "     5    5    5    5    5    5    5    5    5    5    5    5    5    5\n",
      "     5    5    5    5    5    5    5    5    5    5    5    5    5    5\n",
      "     5    5    5    5    5    5    5    5    5    5]\n",
      " [   1   60   56   81    3   55   27    2    5    5    5    5    5    5\n",
      "     5    5    5    5    5    5    5    5    5    5    5    5    5    5\n",
      "     5    5    5    5    5    5    5    5    5    5    5    5    5    5\n",
      "     5    5    5    5    5    5    5    5    5    5    5    5    5    5\n",
      "     5    5    5    5    5    5    5    5    5    5]\n",
      " [   1    4  172    3   33   31  429    5  174   12    5   14  911    6\n",
      "     3   16    3   30 1318  179   61    2    5    5    5    5    5    5\n",
      "     5    5    5    5    5    5    5    5    5    5    5    5    5    5\n",
      "     5    5    5    5    5    5    5    5    5    5    5    5    5    5\n",
      "     5    5    5    5    5    5    5    5    5    5]\n",
      " [   1    5  101   33  180   25    5    2    5    5    5    5    5    5\n",
      "     5    5    5    5    5    5    5    5    5    5    5    5    5    5\n",
      "     5    5    5    5    5    5    5    5    5    5    5    5    5    5\n",
      "     5    5    5    5    5    5    5    5    5    5    5    5    5    5\n",
      "     5    5    5    5    5    5    5    5    5    5]\n",
      " [   1    4   85  184    2  111    3  179    3    5  158  187  174  188\n",
      "    14    2    5    5    5    5    5    5    5    5    5    5    5    5\n",
      "     5    5    5    5    5    5    5    5    5    5    5    5    5    5\n",
      "     5    5    5    5    5    5    5    5    5    5    5    5    5    5\n",
      "     5    5    5    5    5    5    5    5    5    5]\n",
      " [   1   52   38  267   46   83   14    2    5    5    5    5    5    5\n",
      "     5    5    5    5    5    5    5    5    5    5    5    5    5    5\n",
      "     5    5    5    5    5    5    5    5    5    5    5    5    5    5\n",
      "     5    5    5    5    5    5    5    5    5    5    5    5    5    5\n",
      "     5    5    5    5    5    5    5    5    5    5]\n",
      " [   1    5  174    7  160    2   81  585    5  102  193   66  194    3\n",
      "     2    5    5    5    5    5    5    5    5    5    5    5    5    5\n",
      "     5    5    5    5    5    5    5    5    5    5    5    5    5    5\n",
      "     5    5    5    5    5    5    5    5    5    5    5    5    5    5\n",
      "     5    5    5    5    5    5    5    5    5    5]\n",
      " [   1   94    5  291  283  196    3   33   83   19    3  820  111    5\n",
      "    90   81  337   12  143    3    2    5    5    5    5    5    5    5\n",
      "     5    5    5    5    5    5    5    5    5    5    5    5    5    5\n",
      "     5    5    5    5    5    5    5    5    5    5    5    5    5    5\n",
      "     5    5    5    5    5    5    5    5    5    5]\n",
      " [   1  911    5    5    5  102  973   64  172    2    5    5    5    5\n",
      "     5    5    5    5    5    5    5    5    5    5    5    5    5    5\n",
      "     5    5    5    5    5    5    5    5    5    5    5    5    5    5\n",
      "     5    5    5    5    5    5    5    5    5    5    5    5    5    5\n",
      "     5    5    5    5    5    5    5    5    5    5]\n",
      " [   1  196   81    2    5   16  520  208    5    2    3    3    2    2\n",
      "   213  214   25  215   81    5  137  541  218    3  219   31   16   16\n",
      "     6    2    5    5    5    5    5    5    5    5    5    5    5    5\n",
      "     5    5    5    5    5    5    5    5    5    5    5    5    5    5\n",
      "     5    5    5    5    5    5    5    5    5    5]]\n"
     ]
    },
    {
     "name": "stdout",
     "output_type": "stream",
     "text": [
      "Epoch: 1\n",
      "Training\n",
      "Validation\n",
      "Epoch: 2\n",
      "Training\n",
      "Validation\n",
      "Training and Validation Finish\n",
      "Model Trained and Saved\n"
     ]
    }
   ],
   "source": [
    "loss_train = []\n",
    "loss_val = []\n",
    "flag = 0\n",
    "for epoch in range(params[\"epochs\"]):\n",
    "    print(\"Epoch: %d\"%(epoch))\n",
    "    sess.run(iterator_train.initializer)\n",
    "    print(\"Training\")\n",
    "    while True:\n",
    "        try:\n",
    "            sen, logits, _, loss = sess.run([M.sentence, M.logits, M.train_op, M.loss],feed_dict={handle: handle_train, M.lr: params[\"learning_rate\"]})\n",
    "            loss_train.append(loss)\n",
    "            #print(loss)\n",
    "            #print(np.shape(sen))\n",
    "            #print(np.shape(logits.rnn_output))\n",
    "        except tf.errors.OutOfRangeError:\n",
    "            break\n",
    "        except tf.errors.DataLossError:\n",
    "            break\n",
    "    \n",
    "    print(\"Validation\")\n",
    "    sess.run(iterator_val.initializer)\n",
    "    while True:\n",
    "        try:\n",
    "            loss, logits = sess.run([M.loss, M.logits], feed_dict={handle: handle_val})\n",
    "            loss_val.append(loss)\n",
    "            if flag == 0:\n",
    "                print(logits.sample_id)\n",
    "                flag = 1\n",
    "        except tf.errors.OutOfRangeError:\n",
    "            break\n",
    "        except tf.errors.DataLossError:\n",
    "            break\n",
    "\n",
    "print(\"Training and Validation Finish\")\n",
    "\n",
    "# Save Model\n",
    "saver = tf.train.Saver()\n",
    "saver.save(sess, params[\"save_path\"])\n",
    "save_params(params[\"save_path\"])\n",
    "\n",
    "print('Model Trained and Saved')\n",
    "\n",
    "\n"
   ]
  },
  {
   "cell_type": "code",
   "execution_count": 36,
   "metadata": {},
   "outputs": [
    {
     "data": {
      "image/png": "[encoded data removed]",
      "text/plain": [
       "<Figure size 432x288 with 1 Axes>"
      ]
     },
     "metadata": {
      "needs_background": "light"
     },
     "output_type": "display_data"
    }
   ],
   "source": [
    "import matplotlib.pyplot as plt\n",
    "plt.plot(loss_train)\n",
    "plt.show()"
   ]
  },
  {
   "cell_type": "code",
   "execution_count": 37,
   "metadata": {},
   "outputs": [
    {
     "data": {
      "image/png": "[encoded data removed]",
      "text/plain": [
       "<Figure size 432x288 with 1 Axes>"
      ]
     },
     "metadata": {
      "needs_background": "light"
     },
     "output_type": "display_data"
    }
   ],
   "source": [
    "import matplotlib.pyplot as plt\n",
    "plt.plot(loss_val)\n",
    "plt.show()"
   ]
  },
  {
   "cell_type": "code",
   "execution_count": 35,
   "metadata": {},
   "outputs": [
    {
     "name": "stdout",
     "output_type": "stream",
     "text": [
      "[[   1   25    4  278  194    5  119  111    2    5    5    5    5    5\n",
      "     5    5    5    5    5    5    5    5    5    5    5    5    5    5\n",
      "     5    5    5    5    5    5    5    5    5    5    5    5    5    5\n",
      "     5    5    5    5    5    5    5    5    5    5    5    5    5    5\n",
      "     5    5    5    5    5    5    5    5    5    5    5    5    5    5\n",
      "     5    5    5    5    5    5    5    5    5    5    5    5    5    5\n",
      "     5    5    5    5    5    5    5    5    5    5    5    5    5    5\n",
      "     5    5    5    5    5    5    5    5    5]\n",
      " [   1  726    5    5    3  899   11   25  346    5    5    2    5    5\n",
      "     5    5    5    5    5    5    5    5    5    5    5    5    5    5\n",
      "     5    5    5    5    5    5    5    5    5    5    5    5    5    5\n",
      "     5    5    5    5    5    5    5    5    5    5    5    5    5    5\n",
      "     5    5    5    5    5    5    5    5    5    5    5    5    5    5\n",
      "     5    5    5    5    5    5    5    5    5    5    5    5    5    5\n",
      "     5    5    5    5    5    5    5    5    5    5    5    5    5    5\n",
      "     5    5    5    5    5    5    5    5    5]\n",
      " [   1    3   77   25 2454   16  218    2    5    5    5    5    5    5\n",
      "     5    5    5    5    5    5    5    5    5    5    5    5    5    5\n",
      "     5    5    5    5    5    5    5    5    5    5    5    5    5    5\n",
      "     5    5    5    5    5    5    5    5    5    5    5    5    5    5\n",
      "     5    5    5    5    5    5    5    5    5    5    5    5    5    5\n",
      "     5    5    5    5    5    5    5    5    5    5    5    5    5    5\n",
      "     5    5    5    5    5    5    5    5    5    5    5    5    5    5\n",
      "     5    5    5    5    5    5    5    5    5]\n",
      " [   1   39  116  116  169 2397   37   39   81    6  174  481    2    5\n",
      "     5    5    5    5    5    5    5    5    5    5    5    5    5    5\n",
      "     5    5    5    5    5    5    5    5    5    5    5    5    5    5\n",
      "     5    5    5    5    5    5    5    5    5    5    5    5    5    5\n",
      "     5    5    5    5    5    5    5    5    5    5    5    5    5    5\n",
      "     5    5    5    5    5    5    5    5    5    5    5    5    5    5\n",
      "     5    5    5    5    5    5    5    5    5    5    5    5    5    5\n",
      "     5    5    5    5    5    5    5    5    5]\n",
      " [   1    4    6   16    6    5    5  158    5   16    3  659 2567 1154\n",
      "    16  494    4  294  196    5    6    5   16 1167    4    4    5    5\n",
      "     5    3    4  143  611    3  283  370  169  639    3    5    5  171\n",
      "    16    6    3   16    5  494 1156  911    3 2567 1154  740  659  106\n",
      "  1476  319  273    3   66  659  225  277  169 1214  137 2567    4  474\n",
      "     5  196    3  110   81    3    5    2 2145   16    6    5    5    3\n",
      "  1156  267   16    5    2   16  111  474   12  188   16    3    5  625\n",
      "   194   16  225  304  111  169   81 1120    2]\n",
      " [   1  273  180    6  304  122   16    3    2    5    5    5    5    5\n",
      "     5    5    5    5    5    5    5    5    5    5    5    5    5    5\n",
      "     5    5    5    5    5    5    5    5    5    5    5    5    5    5\n",
      "     5    5    5    5    5    5    5    5    5    5    5    5    5    5\n",
      "     5    5    5    5    5    5    5    5    5    5    5    5    5    5\n",
      "     5    5    5    5    5    5    5    5    5    5    5    5    5    5\n",
      "     5    5    5    5    5    5    5    5    5    5    5    5    5    5\n",
      "     5    5    5    5    5    5    5    5    5]\n",
      " [   1    5  196    3    3   64   16   16    4    3   16   46    3    4\n",
      "  1154    5    3   30    3   16    4  599    3   16    3   12  196   78\n",
      "     5   78   14   87   46 1284  660    5    3    6  111 2454    4   16\n",
      "     2    5    5    5    5    5    5    5    5    5    5    5    5    5\n",
      "     5    5    5    5    5    5    5    5    5    5    5    5    5    5\n",
      "     5    5    5    5    5    5    5    5    5    5    5    5    5    5\n",
      "     5    5    5    5    5    5    5    5    5    5    5    5    5    5\n",
      "     5    5    5    5    5    5    5    5    5]\n",
      " [   1    5    3   14    2    5    5    5    5    5    5    5    5    5\n",
      "     5    5    5    5    5    5    5    5    5    5    5    5    5    5\n",
      "     5    5    5    5    5    5    5    5    5    5    5    5    5    5\n",
      "     5    5    5    5    5    5    5    5    5    5    5    5    5    5\n",
      "     5    5    5    5    5    5    5    5    5    5    5    5    5    5\n",
      "     5    5    5    5    5    5    5    5    5    5    5    5    5    5\n",
      "     5    5    5    5    5    5    5    5    5    5    5    5    5    5\n",
      "     5    5    5    5    5    5    5    5    5]\n",
      " [   1   52  163    3   38  366  474   38    2    5    5    5    5    5\n",
      "     5    5    5    5    5    5    5    5    5    5    5    5    5    5\n",
      "     5    5    5    5    5    5    5    5    5    5    5    5    5    5\n",
      "     5    5    5    5    5    5    5    5    5    5    5    5    5    5\n",
      "     5    5    5    5    5    5    5    5    5    5    5    5    5    5\n",
      "     5    5    5    5    5    5    5    5    5    5    5    5    5    5\n",
      "     5    5    5    5    5    5    5    5    5    5    5    5    5    5\n",
      "     5    5    5    5    5    5    5    5    5]\n",
      " [   1  675  146   33   25    4    3  179    5  137    4  169  179    2\n",
      "     5    5    5    5    5    5    5    5    5    5    5    5    5    5\n",
      "     5    5    5    5    5    5    5    5    5    5    5    5    5    5\n",
      "     5    5    5    5    5    5    5    5    5    5    5    5    5    5\n",
      "     5    5    5    5    5    5    5    5    5    5    5    5    5    5\n",
      "     5    5    5    5    5    5    5    5    5    5    5    5    5    5\n",
      "     5    5    5    5    5    5    5    5    5    5    5    5    5    5\n",
      "     5    5    5    5    5    5    5    5    5]\n",
      " [   1  231  208  349   16  188   25   16    3    3    7    2    3   16\n",
      "    14    2    5    5    5    5    5    5    5    5    5    5    5    5\n",
      "     5    5    5    5    5    5    5    5    5    5    5    5    5    5\n",
      "     5    5    5    5    5    5    5    5    5    5    5    5    5    5\n",
      "     5    5    5    5    5    5    5    5    5    5    5    5    5    5\n",
      "     5    5    5    5    5    5    5    5    5    5    5    5    5    5\n",
      "     5    5    5    5    5    5    5    5    5    5    5    5    5    5\n",
      "     5    5    5    5    5    5    5    5    5]\n",
      " [   1 1260  194  768    3    2    5    5    5    5    5    5    5    5\n",
      "     5    5    5    5    5    5    5    5    5    5    5    5    5    5\n",
      "     5    5    5    5    5    5    5    5    5    5    5    5    5    5\n",
      "     5    5    5    5    5    5    5    5    5    5    5    5    5    5\n",
      "     5    5    5    5    5    5    5    5    5    5    5    5    5    5\n",
      "     5    5    5    5    5    5    5    5    5    5    5    5    5    5\n",
      "     5    5    5    5    5    5    5    5    5    5    5    5    5    5\n",
      "     5    5    5    5    5    5    5    5    5]\n",
      " [   1  368  465  244   90  116   39  639  102    6    3  501    5    3\n",
      "     2    5    5    5    5    5    5    5    5    5    5    5    5    5\n",
      "     5    5    5    5    5    5    5    5    5    5    5    5    5    5\n",
      "     5    5    5    5    5    5    5    5    5    5    5    5    5    5\n",
      "     5    5    5    5    5    5    5    5    5    5    5    5    5    5\n",
      "     5    5    5    5    5    5    5    5    5    5    5    5    5    5\n",
      "     5    5    5    5    5    5    5    5    5    5    5    5    5    5\n",
      "     5    5    5    5    5    5    5    5    5]\n",
      " [   1  727  101  267  726 1093   16   14  511  324  260   14  501  174\n",
      "    71    5   14  884  193   81 1488   14    2    5    5    5    5    5\n",
      "     5    5    5    5    5    5    5    5    5    5    5    5    5    5\n",
      "     5    5    5    5    5    5    5    5    5    5    5    5    5    5\n",
      "     5    5    5    5    5    5    5    5    5    5    5    5    5    5\n",
      "     5    5    5    5    5    5    5    5    5    5    5    5    5    5\n",
      "     5    5    5    5    5    5    5    5    5    5    5    5    5    5\n",
      "     5    5    5    5    5    5    5    5    5]\n",
      " [   1   39  639   83  611    2    5    5    5    5    5    5    5    5\n",
      "     5    5    5    5    5    5    5    5    5    5    5    5    5    5\n",
      "     5    5    5    5    5    5    5    5    5    5    5    5    5    5\n",
      "     5    5    5    5    5    5    5    5    5    5    5    5    5    5\n",
      "     5    5    5    5    5    5    5    5    5    5    5    5    5    5\n",
      "     5    5    5    5    5    5    5    5    5    5    5    5    5    5\n",
      "     5    5    5    5    5    5    5    5    5    5    5    5    5    5\n",
      "     5    5    5    5    5    5    5    5    5]\n",
      " [   1  288  193   14  278  382  111  969    6    2    5    5    5    5\n",
      "     5    5    5    5    5    5    5    5    5    5    5    5    5    5\n",
      "     5    5    5    5    5    5    5    5    5    5    5    5    5    5\n",
      "     5    5    5    5    5    5    5    5    5    5    5    5    5    5\n",
      "     5    5    5    5    5    5    5    5    5    5    5    5    5    5\n",
      "     5    5    5    5    5    5    5    5    5    5    5    5    5    5\n",
      "     5    5    5    5    5    5    5    5    5    5    5    5    5    5\n",
      "     5    5    5    5    5    5    5    5    5]\n",
      " [   1   25    7   16    6    5    5    7   16    6    4 1057    4   16\n",
      "     3  110  188   16    2 1393    5    6  121  111  345   16  457  377\n",
      "     6  748  726   46  235  119    7 1554  106   38    3    3  137    3\n",
      "     3    2    5    5    5    5    5    5    5    5    5    5    5    5\n",
      "     5    5    5    5    5    5    5    5    5    5    5    5    5    5\n",
      "     5    5    5    5    5    5    5    5    5    5    5    5    5    5\n",
      "     5    5    5    5    5    5    5    5    5    5    5    5    5    5\n",
      "     5    5    5    5    5    5    5    5    5]\n",
      " [   1    6   85  377    6  172    5    2    5    5    5    5    5    5\n",
      "     5    5    5    5    5    5    5    5    5    5    5    5    5    5\n",
      "     5    5    5    5    5    5    5    5    5    5    5    5    5    5\n",
      "     5    5    5    5    5    5    5    5    5    5    5    5    5    5\n",
      "     5    5    5    5    5    5    5    5    5    5    5    5    5    5\n",
      "     5    5    5    5    5    5    5    5    5    5    5    5    5    5\n",
      "     5    5    5    5    5    5    5    5    5    5    5    5    5    5\n",
      "     5    5    5    5    5    5    5    5    5]\n",
      " [   1  578  225   49  370   30    2    5    5    5    5    5    5    5\n",
      "     5    5    5    5    5    5    5    5    5    5    5    5    5    5\n",
      "     5    5    5    5    5    5    5    5    5    5    5    5    5    5\n",
      "     5    5    5    5    5    5    5    5    5    5    5    5    5    5\n",
      "     5    5    5    5    5    5    5    5    5    5    5    5    5    5\n",
      "     5    5    5    5    5    5    5    5    5    5    5    5    5    5\n",
      "     5    5    5    5    5    5    5    5    5    5    5    5    5    5\n",
      "     5    5    5    5    5    5    5    5    5]]\n"
     ]
    }
   ],
   "source": [
    "print(logits.sample_id)"
   ]
  },
  {
   "cell_type": "code",
   "execution_count": 38,
   "metadata": {},
   "outputs": [
    {
     "ename": "AttributeError",
     "evalue": "'BasicDecoderOutput' object has no attribute 'name'",
     "output_type": "error",
     "traceback": [
      "\u001b[0;31m---------------------------------------------------------------------------\u001b[0m",
      "\u001b[0;31mAttributeError\u001b[0m                            Traceback (most recent call last)",
      "\u001b[0;32m<ipython-input-38-9bc6a84bffde>\u001b[0m in \u001b[0;36m<module>\u001b[0;34m\u001b[0m\n\u001b[0;32m----> 1\u001b[0;31m \u001b[0mprint\u001b[0m\u001b[0;34m(\u001b[0m\u001b[0mM\u001b[0m\u001b[0;34m.\u001b[0m\u001b[0mlogits\u001b[0m\u001b[0;34m.\u001b[0m\u001b[0mname\u001b[0m\u001b[0;34m)\u001b[0m\u001b[0;34m\u001b[0m\u001b[0;34m\u001b[0m\u001b[0m\n\u001b[0m",
      "\u001b[0;31mAttributeError\u001b[0m: 'BasicDecoderOutput' object has no attribute 'name'"
     ]
    }
   ],
   "source": [
    "print(M.logits.name)"
   ]
  },
  {
   "cell_type": "markdown",
   "metadata": {},
   "source": [
    "## Restore model"
   ]
  },
  {
   "cell_type": "code",
   "execution_count": 16,
   "metadata": {},
   "outputs": [],
   "source": [
    "saver = tf.train.Saver()\n"
   ]
  }
 ],
 "metadata": {
  "kernelspec": {
   "display_name": "Python (python36)",
   "language": "python",
   "name": "python36"
  },
  "language_info": {
   "codemirror_mode": {
    "name": "ipython",
    "version": 3
   },
   "file_extension": ".py",
   "mimetype": "text/x-python",
   "name": "python",
   "nbconvert_exporter": "python",
   "pygments_lexer": "ipython3",
   "version": "3.6.8"
  }
 },
 "nbformat": 4,
 "nbformat_minor": 2
}
