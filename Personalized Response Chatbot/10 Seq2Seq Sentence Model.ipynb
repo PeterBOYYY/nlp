{
 "cells": [
  {
   "cell_type": "code",
   "execution_count": 1,
   "metadata": {},
   "outputs": [],
   "source": [
    "import numpy as np\n",
    "import tensorflow as tf\n",
    "from preppy import Preppy\n",
    "from tensorflow.contrib.seq2seq import *\n",
    "from tensorflow.python.layers.core import Dense"
   ]
  },
  {
   "cell_type": "markdown",
   "metadata": {},
   "source": [
    "Make a dataset by reading the train "
   ]
  },
  {
   "cell_type": "code",
   "execution_count": 2,
   "metadata": {},
   "outputs": [],
   "source": [
    "def expand(x):\n",
    "    x['length'] = tf.expand_dims(tf.convert_to_tensor(x['length']),0)\n",
    "    return x\n",
    "def deflate(x):\n",
    "    x['length'] = tf.squeeze(x['length'])\n",
    "    return x"
   ]
  },
  {
   "cell_type": "code",
   "execution_count": 3,
   "metadata": {},
   "outputs": [],
   "source": [
    "tf.reset_default_graph()\n",
    "dataset_train = tf.data.TFRecordDataset(['./data/seq2seq/train.tfrecord']).map(Preppy.parse)\n",
    "dataset_val = tf.data.TFRecordDataset(['./data/seq2seq/val.tfrecord']).map(Preppy.parse)"
   ]
  },
  {
   "cell_type": "code",
   "execution_count": 4,
   "metadata": {},
   "outputs": [
    {
     "data": {
      "text/plain": [
       "{'sentence': TensorShape([Dimension(None)])}"
      ]
     },
     "execution_count": 4,
     "metadata": {},
     "output_type": "execute_result"
    }
   ],
   "source": [
    "dataset_train.output_shapes"
   ]
  },
  {
   "cell_type": "code",
   "execution_count": 5,
   "metadata": {},
   "outputs": [],
   "source": [
    "sess = tf.Session(config=tf.ConfigProto(allow_soft_placement=True, log_device_placement=False))"
   ]
  },
  {
   "cell_type": "code",
   "execution_count": 6,
   "metadata": {},
   "outputs": [],
   "source": [
    "batched_train = dataset_train.padded_batch(32,padded_shapes={\n",
    "   # \"length\":tf.TensorShape([1, None]),\n",
    "    \"sentence\":tf.TensorShape([None])\n",
    "})\n",
    "\n",
    "batched_val = dataset_val.padded_batch(32,padded_shapes={\n",
    "   # \"length\":tf.TensorShape([1, None]),\n",
    "    \"sentence\":tf.TensorShape([None])\n",
    "})\n",
    "\n",
    "handle = tf.placeholder(tf.string, shape=[])\n",
    "iterator = tf.data.Iterator.from_string_handle(\n",
    "    handle, batched_train.output_types, batched_train.output_shapes)\n",
    "\n",
    "next_item = iterator.get_next()"
   ]
  },
  {
   "cell_type": "code",
   "execution_count": 7,
   "metadata": {},
   "outputs": [
    {
     "data": {
      "text/plain": [
       "{'sentence': TensorShape([Dimension(None), Dimension(None)])}"
      ]
     },
     "execution_count": 7,
     "metadata": {},
     "output_type": "execute_result"
    }
   ],
   "source": [
    "batched_train.output_shapes"
   ]
  },
  {
   "cell_type": "code",
   "execution_count": 8,
   "metadata": {},
   "outputs": [],
   "source": [
    "iterator_train = batched_train.make_initializable_iterator()\n",
    "iterator_val = batched_val.make_initializable_iterator()\n",
    "\n",
    "handle_train = sess.run(iterator_train.string_handle())\n",
    "handle_val = sess.run(iterator_val.string_handle())"
   ]
  },
  {
   "cell_type": "code",
   "execution_count": 9,
   "metadata": {},
   "outputs": [],
   "source": [
    "class Model():\n",
    "    def __init__(self, inputs, rnn_size, vocab_size, embedding_dim, batch_size):\n",
    "        \n",
    "        self.sentence = sentence =  inputs['sentence']\n",
    "        length = tf.count_nonzero(sentence, 1, dtype=tf.int32)\n",
    "        \n",
    "        self.lr = tf.placeholder(shape=None,dtype=tf.float32)\n",
    "        \n",
    "        # define embedding layer\n",
    "        self.embedding = tf.Variable(\n",
    "            tf.truncated_normal(shape=[vocab_size, embedding_dim], stddev=0.1), \n",
    "            name='embedding')\n",
    "\n",
    "        # define encoder\n",
    "        encoder = self._get_simple_lstm(rnn_size)\n",
    "\n",
    "        input_x_embedded = tf.nn.embedding_lookup(self.embedding, sentence)\n",
    "\n",
    "        encoder_outputs, self.encoder_state = tf.nn.dynamic_rnn(encoder, input_x_embedded, length, dtype=tf.float32)\n",
    "        \n",
    "        self.target_input_ids = sentence\n",
    "        self.decoder_seq_length = length\n",
    "        \n",
    "        target_embeddeds = tf.nn.embedding_lookup(self.embedding, self.target_input_ids)\n",
    "        helper = TrainingHelper(target_embeddeds, self.decoder_seq_length)\n",
    "\n",
    "        fc_layer = Dense(vocab_size)\n",
    "        decoder_cell = self._get_simple_lstm(rnn_size)\n",
    "        decoder = BasicDecoder(decoder_cell, helper, self.encoder_state, fc_layer)\n",
    "\n",
    "        self.logits, final_state, final_sequence_lengths = dynamic_decode(decoder)\n",
    "\n",
    "        self.targets = tf.reshape(sentence, [-1])\n",
    "        self.logits_flat = tf.reshape(self.logits.rnn_output, [-1, vocab_size])\n",
    "\t\t\n",
    "        self.cost = tf.losses.sparse_softmax_cross_entropy(self.targets, self.logits_flat)\n",
    "        optimizer = tf.train.AdamOptimizer(self.lr)\n",
    "        self.train_op = optimizer.minimize(self.cost)\n",
    "        \"\"\"\n",
    "        # define train op\n",
    "        tvars = tf.trainable_variables()\n",
    "        grads, _ = tf.clip_by_global_norm(tf.gradients(self.cost, tvars), 3)\n",
    "\n",
    "        optimizer = tf.train.AdamOptimizer(self.lr)\n",
    "        self.train_op = optimizer.apply_gradients(zip(grads, tvars))\n",
    "        \"\"\"\n",
    "        \n",
    "    def _get_simple_lstm(self, rnn_size):\n",
    "        lstm_layers = tf.contrib.rnn.LSTMCell(rnn_size) \n",
    "        return lstm_layers"
   ]
  },
  {
   "cell_type": "code",
   "execution_count": 10,
   "metadata": {},
   "outputs": [],
   "source": [
    "M = Model(next_item, rnn_size = 50, vocab_size = 5728, embedding_dim = 50, batch_size=32)\n",
    "sess.run(tf.global_variables_initializer())"
   ]
  },
  {
   "cell_type": "code",
   "execution_count": 11,
   "metadata": {},
   "outputs": [
    {
     "name": "stdout",
     "output_type": "stream",
     "text": [
      "Training 0/2\n",
      "Validation 0/2\n",
      "Training 1/2\n",
      "Validation 1/2\n",
      "Training 2/2\n",
      "Validation 2/2\n",
      "Training 3/2\n",
      "Validation 3/2\n",
      "Training 4/2\n",
      "Validation 4/2\n",
      "finish\n"
     ]
    }
   ],
   "source": [
    "loss_train = []\n",
    "loss_val = []\n",
    "for epoch in range(5):\n",
    "    sess.run(iterator_train.initializer)\n",
    "    print(\"Training %d/2\"%(epoch))\n",
    "    while True:\n",
    "        try:\n",
    "            _, loss = sess.run([M.train_op, M.cost],feed_dict={handle: handle_train, M.lr:0.0001})\n",
    "            loss_train.append(loss)\n",
    "        except tf.errors.OutOfRangeError:\n",
    "            break\n",
    "        except tf.errors.DataLossError:\n",
    "            break\n",
    "    \n",
    "    print(\"Validation %d/2\"%(epoch))\n",
    "    sess.run(iterator_val.initializer)\n",
    "    while True:\n",
    "        try:\n",
    "            loss = sess.run(M.cost, feed_dict={handle: handle_val})\n",
    "            loss_val.append(loss)\n",
    "            #print(loss)\n",
    "        except tf.errors.OutOfRangeError:\n",
    "            break\n",
    "        except tf.errors.DataLossError:\n",
    "            break\n",
    "    \n",
    "print(\"finish\")"
   ]
  },
  {
   "cell_type": "code",
   "execution_count": 14,
   "metadata": {},
   "outputs": [
    {
     "data": {
      "image/png": "[encoded data removed]",
      "text/plain": [
       "<Figure size 432x288 with 1 Axes>"
      ]
     },
     "metadata": {
      "needs_background": "light"
     },
     "output_type": "display_data"
    }
   ],
   "source": [
    "import matplotlib.pyplot as plt\n",
    "plt.plot(loss_train)\n",
    "plt.show()"
   ]
  },
  {
   "cell_type": "code",
   "execution_count": 13,
   "metadata": {},
   "outputs": [
    {
     "data": {
      "image/png": "[encoded data removed]",
      "text/plain": [
       "<Figure size 432x288 with 1 Axes>"
      ]
     },
     "metadata": {
      "needs_background": "light"
     },
     "output_type": "display_data"
    }
   ],
   "source": [
    "import matplotlib.pyplot as plt\n",
    "plt.plot(loss_val)\n",
    "plt.show()"
   ]
  },
  {
   "cell_type": "code",
   "execution_count": null,
   "metadata": {},
   "outputs": [],
   "source": []
  }
 ],
 "metadata": {
  "kernelspec": {
   "display_name": "Python (python36)",
   "language": "python",
   "name": "python36"
  },
  "language_info": {
   "codemirror_mode": {
    "name": "ipython",
    "version": 3
   },
   "file_extension": ".py",
   "mimetype": "text/x-python",
   "name": "python",
   "nbconvert_exporter": "python",
   "pygments_lexer": "ipython3",
   "version": "3.6.8"
  }
 },
 "nbformat": 4,
 "nbformat_minor": 2
}
